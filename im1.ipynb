{
 "cells": [
  {
   "cell_type": "code",
   "execution_count": 1,
   "id": "ec490361",
   "metadata": {},
   "outputs": [],
   "source": [
    "import matplotlib.pyplot as plt\n",
    "import numpy as np\n",
    "import math\n",
    "import random\n",
    "import pandas as pd"
   ]
  },
  {
   "cell_type": "code",
   "execution_count": 18,
   "id": "abd253bd",
   "metadata": {},
   "outputs": [
    {
     "data": {
      "image/png": "[encoded data removed]",
      "text/plain": [
       "<Figure size 432x288 with 1 Axes>"
      ]
     },
     "metadata": {
      "needs_background": "light"
     },
     "output_type": "display_data"
    }
   ],
   "source": [
    "x = np.linspace(0, 1, 100)\n",
    "y = lambda x: 10*(4*x*x-1)\n",
    "plt.plot(x, y(x))\n",
    "\n",
    "x1 = np.linspace(1, 2, 100)\n",
    "y1 = lambda x: 15*(2/(x-1+1))\n",
    "plt.plot(x1, y1(x1))\n",
    "\n",
    "x2 = np.linspace(2, 3, 100)\n",
    "y2 = lambda x: (2*(x-2)-1)*-15\n",
    "plt.plot(x2, y2(x2))\n",
    "plt.show()"
   ]
  },
  {
   "cell_type": "markdown",
   "id": "7aab51b8",
   "metadata": {},
   "source": [
    "Функция вычисления интеграла методом Монте-Карло"
   ]
  },
  {
   "cell_type": "code",
   "execution_count": 21,
   "id": "8c4c99b7",
   "metadata": {},
   "outputs": [],
   "source": [
    "def MonteCarlo(N):\n",
    "    a = 0\n",
    "    b = 3\n",
    "    s = 0\n",
    "    for i in range(N):\n",
    "        x = random.uniform(a, b)\n",
    "        if x < 1:\n",
    "            s += 10*(4*x*x-1)\n",
    "        elif 1 <= x <= 2:\n",
    "            s += 15*(2/(x-1+1))\n",
    "        else:\n",
    "            s += (2*(x-2)-1)*-15\n",
    "    res = (b - a) / N * s\n",
    "    return res"
   ]
  },
  {
   "cell_type": "code",
   "execution_count": 22,
   "id": "aa9c311b",
   "metadata": {},
   "outputs": [
    {
     "data": {
      "text/html": [
       "<div>\n",
       "<style scoped>\n",
       "    .dataframe tbody tr th:only-of-type {\n",
       "        vertical-align: middle;\n",
       "    }\n",
       "\n",
       "    .dataframe tbody tr th {\n",
       "        vertical-align: top;\n",
       "    }\n",
       "\n",
       "    .dataframe thead th {\n",
       "        text-align: right;\n",
       "    }\n",
       "</style>\n",
       "<table border=\"1\" class=\"dataframe\">\n",
       "  <thead>\n",
       "    <tr style=\"text-align: right;\">\n",
       "      <th></th>\n",
       "      <th>i</th>\n",
       "      <th>Result</th>\n",
       "    </tr>\n",
       "  </thead>\n",
       "  <tbody>\n",
       "    <tr>\n",
       "      <th>0</th>\n",
       "      <td>0</td>\n",
       "      <td>9.287019</td>\n",
       "    </tr>\n",
       "    <tr>\n",
       "      <th>1</th>\n",
       "      <td>1</td>\n",
       "      <td>7.848463</td>\n",
       "    </tr>\n",
       "    <tr>\n",
       "      <th>2</th>\n",
       "      <td>2</td>\n",
       "      <td>53.954014</td>\n",
       "    </tr>\n",
       "    <tr>\n",
       "      <th>3</th>\n",
       "      <td>3</td>\n",
       "      <td>17.955150</td>\n",
       "    </tr>\n",
       "    <tr>\n",
       "      <th>4</th>\n",
       "      <td>4</td>\n",
       "      <td>2.888393</td>\n",
       "    </tr>\n",
       "    <tr>\n",
       "      <th>5</th>\n",
       "      <td>5</td>\n",
       "      <td>29.014694</td>\n",
       "    </tr>\n",
       "    <tr>\n",
       "      <th>6</th>\n",
       "      <td>6</td>\n",
       "      <td>33.703891</td>\n",
       "    </tr>\n",
       "    <tr>\n",
       "      <th>7</th>\n",
       "      <td>7</td>\n",
       "      <td>27.290027</td>\n",
       "    </tr>\n",
       "    <tr>\n",
       "      <th>8</th>\n",
       "      <td>8</td>\n",
       "      <td>24.909305</td>\n",
       "    </tr>\n",
       "    <tr>\n",
       "      <th>9</th>\n",
       "      <td>9</td>\n",
       "      <td>26.227787</td>\n",
       "    </tr>\n",
       "    <tr>\n",
       "      <th>10</th>\n",
       "      <td>10</td>\n",
       "      <td>23.833038</td>\n",
       "    </tr>\n",
       "    <tr>\n",
       "      <th>11</th>\n",
       "      <td>11</td>\n",
       "      <td>24.170737</td>\n",
       "    </tr>\n",
       "    <tr>\n",
       "      <th>12</th>\n",
       "      <td>12</td>\n",
       "      <td>23.894022</td>\n",
       "    </tr>\n",
       "    <tr>\n",
       "      <th>13</th>\n",
       "      <td>13</td>\n",
       "      <td>24.077374</td>\n",
       "    </tr>\n",
       "    <tr>\n",
       "      <th>14</th>\n",
       "      <td>14</td>\n",
       "      <td>24.177607</td>\n",
       "    </tr>\n",
       "  </tbody>\n",
       "</table>\n",
       "</div>"
      ],
      "text/plain": [
       "     i     Result\n",
       "0    0   9.287019\n",
       "1    1   7.848463\n",
       "2    2  53.954014\n",
       "3    3  17.955150\n",
       "4    4   2.888393\n",
       "5    5  29.014694\n",
       "6    6  33.703891\n",
       "7    7  27.290027\n",
       "8    8  24.909305\n",
       "9    9  26.227787\n",
       "10  10  23.833038\n",
       "11  11  24.170737\n",
       "12  12  23.894022\n",
       "13  13  24.077374\n",
       "14  14  24.177607"
      ]
     },
     "metadata": {},
     "output_type": "display_data"
    }
   ],
   "source": [
    "Count = []\n",
    "ress = []\n",
    "for i in range(15):\n",
    "    Count.append(i)\n",
    "    ress.append(MonteCarlo(2**i))\n",
    "df = pd.DataFrame({'i': Count, 'Result': ress})\n",
    "display(df)"
   ]
  },
  {
   "cell_type": "code",
   "execution_count": 24,
   "id": "0b5c0764",
   "metadata": {},
   "outputs": [
    {
     "data": {
      "image/png": "[encoded data removed]",
      "text/plain": [
       "<Figure size 432x288 with 1 Axes>"
      ]
     },
     "metadata": {
      "needs_background": "light"
     },
     "output_type": "display_data"
    }
   ],
   "source": [
    "plt.plot(Count, ress, color='green', label = 'Программно вычисленные значения')\n",
    "plt.hlines(30*math.log(2)+10/3, 0, 14, linestyle='dashed', label = 'Аналитически вычисленное значение')\n",
    "plt.title(\"Значения интеграла функции\")\n",
    "plt.xlabel(\"Степень двойки в количистве случайных значений\")\n",
    "plt.ylabel(\"Величина интеграла\")\n",
    "plt.legend()\n",
    "plt.show()"
   ]
  },
  {
   "cell_type": "code",
   "execution_count": null,
   "id": "6f6d4735",
   "metadata": {},
   "outputs": [],
   "source": []
  }
 ],
 "metadata": {
  "kernelspec": {
   "display_name": "Python 3 (ipykernel)",
   "language": "python",
   "name": "python3"
  },
  "language_info": {
   "codemirror_mode": {
    "name": "ipython",
    "version": 3
   },
   "file_extension": ".py",
   "mimetype": "text/x-python",
   "name": "python",
   "nbconvert_exporter": "python",
   "pygments_lexer": "ipython3",
   "version": "3.9.12"
  }
 },
 "nbformat": 4,
 "nbformat_minor": 5
}
